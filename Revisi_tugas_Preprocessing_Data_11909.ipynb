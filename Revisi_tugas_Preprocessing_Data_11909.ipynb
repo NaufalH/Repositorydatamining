{
  "nbformat": 4,
  "nbformat_minor": 0,
  "metadata": {
    "colab": {
      "name": "Preprocessing Data 11909.ipynb",
      "provenance": []
    },
    "kernelspec": {
      "name": "python3",
      "display_name": "Python 3"
    },
    "language_info": {
      "name": "python"
    }
  },
  "cells": [
    {
      "cell_type": "code",
      "execution_count": 2,
      "metadata": {
        "id": "VNihG_y55xND"
      },
      "outputs": [],
      "source": [
        "import numpy as np\n",
        "import matplotlib.pyplot as plt\n",
        "import pandas as pd"
      ]
    },
    {
      "cell_type": "code",
      "source": [
        "dataset = pd.read_csv('Data.csv')\n",
        "x = dataset.iloc[:,:-1].values\n",
        "y = dataset.iloc[:,-1].values"
      ],
      "metadata": {
        "id": "AbTFDP1i54EC"
      },
      "execution_count": 22,
      "outputs": []
    },
    {
      "cell_type": "code",
      "source": [
        "print(x)"
      ],
      "metadata": {
        "colab": {
          "base_uri": "https://localhost:8080/"
        },
        "id": "6vcVTUHU6QU0",
        "outputId": "3837b933-7461-4fb4-927b-937d88defd8c"
      },
      "execution_count": 23,
      "outputs": [
        {
          "output_type": "stream",
          "name": "stdout",
          "text": [
            "[['Indonesia' 30.0 28000.0]\n",
            " ['Malaysia' 45.0 45000.0]\n",
            " ['Singapore' 25.0 24000.0]\n",
            " ['Malaysia' 55.0 60000.0]\n",
            " ['Singapore' 40.0 nan]\n",
            " ['Indonesia' 33.0 35000.0]\n",
            " ['Malaysia' nan 40000.0]\n",
            " ['Indonesia' 29.0 29000.0]\n",
            " ['Singapore' 47.0 50000.0]\n",
            " ['Indonesia' 27.0 25000.0]]\n"
          ]
        }
      ]
    },
    {
      "cell_type": "code",
      "source": [
        "print(y)"
      ],
      "metadata": {
        "colab": {
          "base_uri": "https://localhost:8080/"
        },
        "id": "8Ic9QMRD6U56",
        "outputId": "43f7e4eb-43b1-4e63-cf43-86b7561c791e"
      },
      "execution_count": 24,
      "outputs": [
        {
          "output_type": "stream",
          "name": "stdout",
          "text": [
            "['No' 'Yes' 'No' 'No' 'Yes' 'Yes' 'No' 'Yes' 'No' 'Yes']\n"
          ]
        }
      ]
    },
    {
      "cell_type": "code",
      "source": [
        "from sklearn.impute import SimpleImputer\n",
        "imputer = SimpleImputer(missing_values=np.nan, strategy='mean')\n",
        "imputer.fit(x[:,1:3])\n",
        "x[:, 1:3] =imputer.transform(x[:,1:3])"
      ],
      "metadata": {
        "id": "TZ8fWYMB6Wzb"
      },
      "execution_count": 25,
      "outputs": []
    },
    {
      "cell_type": "code",
      "source": [
        "print(x)"
      ],
      "metadata": {
        "colab": {
          "base_uri": "https://localhost:8080/"
        },
        "id": "nmYGzcng6c-z",
        "outputId": "9bf373e8-d900-4f42-9b66-58e66c6f3cc4"
      },
      "execution_count": 26,
      "outputs": [
        {
          "output_type": "stream",
          "name": "stdout",
          "text": [
            "[['Indonesia' 30.0 28000.0]\n",
            " ['Malaysia' 45.0 45000.0]\n",
            " ['Singapore' 25.0 24000.0]\n",
            " ['Malaysia' 55.0 60000.0]\n",
            " ['Singapore' 40.0 37333.333333333336]\n",
            " ['Indonesia' 33.0 35000.0]\n",
            " ['Malaysia' 36.77777777777778 40000.0]\n",
            " ['Indonesia' 29.0 29000.0]\n",
            " ['Singapore' 47.0 50000.0]\n",
            " ['Indonesia' 27.0 25000.0]]\n"
          ]
        }
      ]
    },
    {
      "cell_type": "code",
      "source": [
        "from sklearn.compose import ColumnTransformer\n",
        "from sklearn.preprocessing import OneHotEncoder\n",
        "ct = ColumnTransformer(transformers=[('encoder',OneHotEncoder(),[0])], remainder='passthrough')\n",
        "x = np.array(ct.fit_transform(x))"
      ],
      "metadata": {
        "id": "WU2HGplA6fPl"
      },
      "execution_count": 27,
      "outputs": []
    },
    {
      "cell_type": "code",
      "source": [
        "print(x)"
      ],
      "metadata": {
        "colab": {
          "base_uri": "https://localhost:8080/"
        },
        "id": "uEpWTVtL6i-i",
        "outputId": "6d64ad51-dfb0-4091-d992-86a0dff74666"
      },
      "execution_count": 28,
      "outputs": [
        {
          "output_type": "stream",
          "name": "stdout",
          "text": [
            "[[1.0 0.0 0.0 30.0 28000.0]\n",
            " [0.0 1.0 0.0 45.0 45000.0]\n",
            " [0.0 0.0 1.0 25.0 24000.0]\n",
            " [0.0 1.0 0.0 55.0 60000.0]\n",
            " [0.0 0.0 1.0 40.0 37333.333333333336]\n",
            " [1.0 0.0 0.0 33.0 35000.0]\n",
            " [0.0 1.0 0.0 36.77777777777778 40000.0]\n",
            " [1.0 0.0 0.0 29.0 29000.0]\n",
            " [0.0 0.0 1.0 47.0 50000.0]\n",
            " [1.0 0.0 0.0 27.0 25000.0]]\n"
          ]
        }
      ]
    },
    {
      "cell_type": "code",
      "source": [
        "from sklearn.preprocessing import LabelEncoder\n",
        "le = LabelEncoder()\n",
        "y = le.fit_transform(y)"
      ],
      "metadata": {
        "id": "QF8sO2vU6nuj"
      },
      "execution_count": 29,
      "outputs": []
    },
    {
      "cell_type": "code",
      "source": [
        "print(y)"
      ],
      "metadata": {
        "colab": {
          "base_uri": "https://localhost:8080/"
        },
        "id": "sCddpljX6qRl",
        "outputId": "e59425cc-7080-4ce1-a83e-f3a75bc55ba2"
      },
      "execution_count": 30,
      "outputs": [
        {
          "output_type": "stream",
          "name": "stdout",
          "text": [
            "[0 1 0 0 1 1 0 1 0 1]\n"
          ]
        }
      ]
    },
    {
      "cell_type": "code",
      "source": [
        "from sklearn.model_selection import train_test_split\n",
        "x_train, x_test, y_train, y_test = train_test_split(x,y,test_size=0.2, random_state=1)"
      ],
      "metadata": {
        "id": "WiNeE03J6su7"
      },
      "execution_count": 31,
      "outputs": []
    },
    {
      "cell_type": "code",
      "source": [
        "print(x_train)"
      ],
      "metadata": {
        "colab": {
          "base_uri": "https://localhost:8080/"
        },
        "id": "n-7eI5-v6x8y",
        "outputId": "0cb06532-a039-4e28-cfad-8620359e3787"
      },
      "execution_count": 32,
      "outputs": [
        {
          "output_type": "stream",
          "name": "stdout",
          "text": [
            "[[0.0 1.0 0.0 36.77777777777778 40000.0]\n",
            " [0.0 0.0 1.0 40.0 37333.333333333336]\n",
            " [1.0 0.0 0.0 30.0 28000.0]\n",
            " [0.0 1.0 0.0 55.0 60000.0]\n",
            " [0.0 1.0 0.0 45.0 45000.0]\n",
            " [1.0 0.0 0.0 29.0 29000.0]\n",
            " [0.0 0.0 1.0 47.0 50000.0]\n",
            " [1.0 0.0 0.0 33.0 35000.0]]\n"
          ]
        }
      ]
    },
    {
      "cell_type": "code",
      "source": [
        "print(x_test)"
      ],
      "metadata": {
        "colab": {
          "base_uri": "https://localhost:8080/"
        },
        "id": "yk4XxEw46zfd",
        "outputId": "cfd0012a-2429-4698-a641-148fc5323186"
      },
      "execution_count": 33,
      "outputs": [
        {
          "output_type": "stream",
          "name": "stdout",
          "text": [
            "[[0.0 0.0 1.0 25.0 24000.0]\n",
            " [1.0 0.0 0.0 27.0 25000.0]]\n"
          ]
        }
      ]
    },
    {
      "cell_type": "code",
      "source": [
        "print(y_train)"
      ],
      "metadata": {
        "colab": {
          "base_uri": "https://localhost:8080/"
        },
        "id": "sLjWI3WE634L",
        "outputId": "dfaa211c-57f7-4e3e-f83b-d15d065bcfbe"
      },
      "execution_count": 34,
      "outputs": [
        {
          "output_type": "stream",
          "name": "stdout",
          "text": [
            "[0 1 0 0 1 1 0 1]\n"
          ]
        }
      ]
    },
    {
      "cell_type": "code",
      "source": [
        "print(y_test)"
      ],
      "metadata": {
        "colab": {
          "base_uri": "https://localhost:8080/"
        },
        "id": "Efuh6-lI68-G",
        "outputId": "848bfebf-e23b-4944-ec11-860a9ac0170f"
      },
      "execution_count": 35,
      "outputs": [
        {
          "output_type": "stream",
          "name": "stdout",
          "text": [
            "[0 1]\n"
          ]
        }
      ]
    },
    {
      "cell_type": "code",
      "source": [
        "from sklearn.preprocessing import StandardScaler\n",
        "sc = StandardScaler()\n",
        "x_train[:,3:] = sc.fit_transform(x_train[:,3:])\n",
        "x_test[:,3:] = sc.transform(x_test[:,3:])"
      ],
      "metadata": {
        "id": "VdfV0Yxk7AL9"
      },
      "execution_count": 36,
      "outputs": []
    },
    {
      "cell_type": "code",
      "source": [
        "print(x_train)"
      ],
      "metadata": {
        "colab": {
          "base_uri": "https://localhost:8080/"
        },
        "id": "0TccNefj7Bpt",
        "outputId": "fad8ab11-eb1d-4c0b-97b8-84cc45961420"
      },
      "execution_count": 37,
      "outputs": [
        {
          "output_type": "stream",
          "name": "stdout",
          "text": [
            "[[0.0 1.0 0.0 -0.31722561737955984 -0.05350972417829976]\n",
            " [0.0 0.0 1.0 0.062136976600120096 -0.3169422124406959]\n",
            " [1.0 0.0 0.0 -1.11519521161268 -1.2389559213590837]\n",
            " [0.0 1.0 0.0 1.8281352589193203 1.9222339377896736]\n",
            " [0.0 1.0 0.0 0.6508030707065201 0.44042619131369354]\n",
            " [1.0 0.0 0.0 -1.23292843043396 -1.140168738260685]\n",
            " [0.0 0.0 1.0 0.8862695083490801 0.9343621068056869]\n",
            " [1.0 0.0 0.0 -0.76199555514884 -0.547445639670293]]\n"
          ]
        }
      ]
    },
    {
      "cell_type": "code",
      "source": [
        "print(x_test)"
      ],
      "metadata": {
        "colab": {
          "base_uri": "https://localhost:8080/"
        },
        "id": "Mt13kmxX7F00",
        "outputId": "000c3292-1db1-4b34-8231-82a2f4117336"
      },
      "execution_count": 38,
      "outputs": [
        {
          "output_type": "stream",
          "name": "stdout",
          "text": [
            "[[0.0 0.0 1.0 -1.7038613057190801 -1.6341046537526784]\n",
            " [1.0 0.0 0.0 -1.46839486807652 -1.5353174706542798]]\n"
          ]
        }
      ]
    }
  ]
}