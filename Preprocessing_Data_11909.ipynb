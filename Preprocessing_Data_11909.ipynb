{
  "nbformat": 4,
  "nbformat_minor": 0,
  "metadata": {
    "colab": {
      "name": "Preprocessing Data 11909.ipynb",
      "provenance": [],
      "collapsed_sections": []
    },
    "kernelspec": {
      "name": "python3",
      "display_name": "Python 3"
    },
    "language_info": {
      "name": "python"
    }
  },
  "cells": [
    {
      "cell_type": "code",
      "execution_count": 1,
      "metadata": {
        "id": "gxBYC6SJ6dSp"
      },
      "outputs": [],
      "source": [
        "import numpy as np\n",
        "import matplotlib.pyplot as plt\n",
        "import pandas as pd\n"
      ]
    },
    {
      "cell_type": "code",
      "source": [
        "dataset = pd.read_csv('Dataset.csv')\n",
        "x = dataset.iloc[:, :-1].values\n",
        "y = dataset.iloc[:, -1].values"
      ],
      "metadata": {
        "id": "4EPU-236B-zH"
      },
      "execution_count": 2,
      "outputs": []
    },
    {
      "cell_type": "code",
      "source": [
        "print(x)"
      ],
      "metadata": {
        "colab": {
          "base_uri": "https://localhost:8080/"
        },
        "id": "Fr79xQBmEWPC",
        "outputId": "527dfea1-e58d-4165-e978-b6951de27d29"
      },
      "execution_count": 4,
      "outputs": [
        {
          "output_type": "stream",
          "name": "stdout",
          "text": [
            "[]\n"
          ]
        }
      ]
    },
    {
      "cell_type": "code",
      "source": [
        "print(y)"
      ],
      "metadata": {
        "colab": {
          "base_uri": "https://localhost:8080/"
        },
        "id": "dQikYnlTEybr",
        "outputId": "905e8155-6928-4dba-93ab-825a80cade60"
      },
      "execution_count": 5,
      "outputs": [
        {
          "output_type": "stream",
          "name": "stdout",
          "text": [
            "['Indonesia;30;30000;No' 'Malaysia;45;45000;Yes' 'Singapore;25;28000;No'\n",
            " 'Malaysia;55;60000;No' 'Singapore;40;;Yes' 'Indonesia;33;35000;Yes'\n",
            " 'Malaysia;;40000;No' 'Indonesia;29;29000;Yes' 'Singapore;47;50000;No'\n",
            " 'Indonesia;27;25000;Yes']\n"
          ]
        }
      ]
    }
  ]
}